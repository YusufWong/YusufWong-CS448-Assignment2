{
 "cells": [
  {
   "cell_type": "markdown",
   "id": "human-david",
   "metadata": {},
   "source": [
    "[![Open In Colab](https://colab.research.google.com/assets/colab-badge.svg)]()"
   ]
  },
  {
   "cell_type": "markdown",
   "id": "outdoor-festival",
   "metadata": {},
   "source": [
    "<a href=\"https://colab.research.google.com/github/YusufWong/YusufWong-CS448-Assignment2/blob/main/Yusuf%20Wong%20-%20Assignment%20%232.ipynb\">\n",
    "  <img src=\"https://colab.research.google.com/assets/colab-badge.svg\" alt=\"Open In Colab\"/>\n",
    "</a>"
   ]
  },
  {
   "cell_type": "markdown",
   "id": "welsh-ancient",
   "metadata": {},
   "source": [
    "# My response to my first programming assignment:"
   ]
  },
  {
   "cell_type": "markdown",
   "id": "beginning-chemical",
   "metadata": {},
   "source": [
    "# ![](SquirtleMeme.jpg)"
   ]
  },
  {
   "cell_type": "markdown",
   "id": "atlantic-reggae",
   "metadata": {},
   "source": [
    "# Tutorial by Kylie Ying: How to code Rock Paper Scissors"
   ]
  },
  {
   "cell_type": "markdown",
   "id": "variable-trace",
   "metadata": {},
   "source": [
    "The following is an example code of playing rock/paper/scissors with a computer. Best of 3 games wins. Credit is due to Kylie Ying with her simple and easy to follow tutorial (https://www.youtube.com/watch?v=xRlN8CFJwAM&ab_channel=KylieYing). I recommend following her youtube channel for step-by-step usage of Python for beginners!\n",
    "\n"
   ]
  },
  {
   "cell_type": "code",
   "execution_count": 11,
   "id": "featured-doubt",
   "metadata": {
    "scrolled": false
   },
   "outputs": [
    {
     "name": "stdout",
     "output_type": "stream",
     "text": [
      "What's your choice? 'r' for rock, 'p' for paper, 's' for scissors\n",
      "p\n",
      "You chose p and the computer chose r. You won!\n",
      "\n",
      "What's your choice? 'r' for rock, 'p' for paper, 's' for scissors\n",
      "r\n",
      "You chose r and the computer chose s. You won!\n",
      "\n",
      "You have won the best of 3 games! What a champ :D\n"
     ]
    }
   ],
   "source": [
    "# Created By: Kylie Ying\n",
    "import random\n",
    "import math\n",
    "\n",
    "def play():\n",
    "    user = input(\"What's your choice? 'r' for rock, 'p' for paper, 's' for scissors\\n\") #ask user for input\n",
    "    user = user.lower() #makes string lowercase\n",
    "\n",
    "    computer = random.choice(['r', 'p', 's']) # pc choose one of the 3 choices\n",
    "\n",
    "    if user == computer: #i.e. if r==r or p==p or s===s\n",
    "        return (0, user, computer)\n",
    "\n",
    "    # r > s, s > p, p > r\n",
    "    if is_win(user, computer):\n",
    "        return (1, user, computer)\n",
    "\n",
    "    return (-1, user, computer)\n",
    "\n",
    "def is_win(player, opponent):\n",
    "    # return true is the player beats the opponent\n",
    "    # winning conditions: r > s, s > p, p > r\n",
    "    if (player == 'r' and opponent == 's') or (player == 's' and opponent == 'p') or (player == 'p' and opponent == 'r'):\n",
    "        return True\n",
    "    return False\n",
    "\n",
    "def play_best_of(n):\n",
    "    # play against the computer until someone wins best of n games\n",
    "    # to win, you must win ceil(n/2) games (ie 2/3, 3/5, 4/7)\n",
    "    player_wins = 0\n",
    "    computer_wins = 0\n",
    "    wins_necessary = math.ceil(n/2)\n",
    "    while player_wins < wins_necessary and computer_wins < wins_necessary:\n",
    "        result, user, computer = play()\n",
    "        # tie\n",
    "        if result == 0:\n",
    "            print('It is a tie. You and the computer have both chosen {}. \\n'.format(user))\n",
    "        # you win\n",
    "        elif result == 1:\n",
    "            player_wins += 1\n",
    "            print('You chose {} and the computer chose {}. You won!\\n'.format(user, computer))\n",
    "        else:\n",
    "            computer_wins += 1\n",
    "            print('You chose {} and the computer chose {}. You lost :(\\n'.format(user, computer))\n",
    "\n",
    "    if player_wins > computer_wins:\n",
    "        print('You have won the best of {} games! What a champ :D'.format(n))\n",
    "    else:\n",
    "        print('Unfortunately, the computer has won the best of {} games. Better luck next time!'.format(n))\n",
    "        \n",
    "if __name__ == '__main__':\n",
    "    play_best_of(3) # 2"
   ]
  },
  {
   "cell_type": "markdown",
   "id": "scientific-album",
   "metadata": {},
   "source": [
    "# Checking for Valid Triangle "
   ]
  },
  {
   "cell_type": "markdown",
   "id": "second-acrylic",
   "metadata": {},
   "source": [
    "By using the previous example as a guide to make my OWN code, the following is a code that I wanted to try, which is checking if 3 input lengths can make a triangle, using the triangle inequality theorem.\n",
    "\n",
    "Here are some triangle combinations that DON'T work: (1,2,3), (2,2,4)\n",
    "\n",
    "Here are some that DO work: (3,4,5), (3,3,3), (5,8,9)."
   ]
  },
  {
   "cell_type": "code",
   "execution_count": 13,
   "id": "downtown-grounds",
   "metadata": {},
   "outputs": [
    {
     "name": "stdout",
     "output_type": "stream",
     "text": [
      "First length?\n",
      "3\n",
      "Second length?\n",
      "4\n",
      "Third length?\n",
      "5\n",
      "3.0, 4.0, and 5.0 make a triangle. :) Congrats!\n",
      "\n"
     ]
    }
   ],
   "source": [
    "def triangleCheck():\n",
    "    A = input(\"First length?\\n\") #Ask for first length\n",
    "    A = float(A) #convert input to float\n",
    "    \n",
    "    B = input(\"Second length?\\n\") #repeat 2nd time\n",
    "    B = float(B)\n",
    "    \n",
    "    C = input(\"Third length?\\n\") #repeat 3rd time\n",
    "    C = float(C)\n",
    "    if (A+B > C) and (A+C > B) and (B+C > A): #Using triangle inequality theorem\n",
    "        print('{}, {}, and {} make a triangle. :) Congrats!\\n'.format(A,B,C)) #print success!\n",
    "    else:\n",
    "        print('{}, {}, and {} DON''T make a triangle. :( Try again!\\n'.format(A,B,C)) #print to try again\n",
    "\n",
    "\n",
    "if __name__ == '__main__': #basically to run a program using main\n",
    "    triangleCheck()"
   ]
  }
 ],
 "metadata": {
  "celltoolbar": "Edit Metadata",
  "kernelspec": {
   "display_name": "Python 3",
   "language": "python",
   "name": "python3"
  },
  "language_info": {
   "codemirror_mode": {
    "name": "ipython",
    "version": 3
   },
   "file_extension": ".py",
   "mimetype": "text/x-python",
   "name": "python",
   "nbconvert_exporter": "python",
   "pygments_lexer": "ipython3",
   "version": "3.9.2"
  }
 },
 "nbformat": 4,
 "nbformat_minor": 5
}
